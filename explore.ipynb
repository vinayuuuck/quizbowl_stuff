{
 "cells": [
  {
   "cell_type": "code",
   "execution_count": 27,
   "metadata": {},
   "outputs": [],
   "source": [
    "import requests\n",
    "import pandas as pd\n",
    "import numpy as np\n",
    "import matplotlib.pyplot as plt\n",
    "import seaborn as sns\n",
    "from bs4 import BeautifulSoup"
   ]
  },
  {
   "cell_type": "code",
   "execution_count": 28,
   "metadata": {},
   "outputs": [],
   "source": [
    "# DOES NOT WORK\n",
    "\n",
    "# qurl = \"https://hsquizbowl.org/db/packets/college/\"\n",
    "# # Get the links to packets for all tournaments\n",
    "# r = requests.get(qurl)\n",
    "# soup = BeautifulSoup(r.text, 'html.parser')\n",
    "# # Get links to packets for all tournaments, that is qurl+hrefnum\n",
    "# links = [qurl + link.get('href') for link in soup.find_all('a') if link.get('href')[:-1].isdigit()]\n",
    "\n",
    "# print(links)"
   ]
  },
  {
   "cell_type": "code",
   "execution_count": 34,
   "metadata": {},
   "outputs": [],
   "source": [
    "# scan pdf\n",
    "import pypdf\n",
    "import re\n",
    "\n",
    "# Get the text from the pdf\n",
    "pdflink = \"https://files.quizbowlpackets.com/3070/Packet%20A%20%E2%80%93%20ASU%20A,%20Berkeley%20A,%20Maryland%20A,%20WUSTL%20B.pdf\"\n",
    "r = requests.get(pdflink)\n",
    "with open(\"packet.pdf\", 'wb') as f:\n",
    "    f.write(r.content)\n"
   ]
  },
  {
   "cell_type": "code",
   "execution_count": 54,
   "metadata": {},
   "outputs": [
    {
     "name": "stdout",
     "output_type": "stream",
     "text": [
      "{'Religion': 1, 'European History': 1, 'Chemistry': 1, 'World History': 1, 'Mythology': 1, 'Other Fine Arts': 1, 'European Literature': 1, 'Social Science': 1, 'Physics': 1, 'American Literature': 1, 'Biology': 1, 'Painting and Sculpture': 1, 'World Literature': 1, 'American History': 1, 'Philosophy': 1, 'Classical Music': 2, 'British Literature': 1, 'Other History': 1, 'Other Science': 1, 'Geography': 1}\n"
     ]
    }
   ],
   "source": [
    "pdf = pypdf.PdfReader(open(\"packet.pdf\", \"rb\"))\n",
    "text = \"\"\n",
    "for page in pdf.pages:\n",
    "    # if first word is \"Bonuses\", then stop\n",
    "\n",
    "    if page.extract_text().split()[0].lower() == \"bonuses\":\n",
    "        break\n",
    "    text += page.extract_text()\n",
    "\n",
    "categories = {}\n",
    "\n",
    "# if any part of the text is of the form \"<sometext>\", then it is a category and we add it to the dictionary before we encounter the word \"bonuses\"\n",
    "\n",
    "for match in re.findall(r'<(.*?)>', text):\n",
    "    if match not in categories:\n",
    "        categories[match] = 1\n",
    "    else:\n",
    "        categories[match] += 1\n",
    "\n",
    "print(categories)"
   ]
  },
  {
   "cell_type": "code",
   "execution_count": null,
   "metadata": {},
   "outputs": [],
   "source": []
  }
 ],
 "metadata": {
  "kernelspec": {
   "display_name": "Python 3",
   "language": "python",
   "name": "python3"
  },
  "language_info": {
   "codemirror_mode": {
    "name": "ipython",
    "version": 3
   },
   "file_extension": ".py",
   "mimetype": "text/x-python",
   "name": "python",
   "nbconvert_exporter": "python",
   "pygments_lexer": "ipython3",
   "version": "3.11.3"
  }
 },
 "nbformat": 4,
 "nbformat_minor": 2
}
